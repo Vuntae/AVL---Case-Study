{
 "cells": [
  {
   "cell_type": "markdown",
   "metadata": {
    "id": "EMzIKwh13C_l"
   },
   "source": [
    "# Jerarquía de una empresa multinacional."
   ]
  },
  {
   "cell_type": "markdown",
   "metadata": {
    "id": "orKkFpEo3NhE"
   },
   "source": [
    "## Instrucciones:\n",
    "* Dada la jerarquía que definas en una empresa, deberás de ingresar a cada empleado. \\\n",
    "Los empleados tienen un id y una fecha_de_antigüedad para reconocerlos.\n",
    "\n",
    "El programa deberá de permitir el árbol correspondiente y debe de permitir las operaciones de inserción, eliminación y búsqueda más las operaciones que consideraden extra en cada sistema."
   ]
  },
  {
   "cell_type": "code",
   "execution_count": null,
   "metadata": {
    "id": "odjvYBur3Cy2"
   },
   "outputs": [],
   "source": [
    "from graphviz import Digraph #importamos Digraph de graphviz para poder imprimir los nodos\n",
    "\n",
    "# Creamos la clase en la cual se va a representar a cada empleado en el arbol\n",
    "class NodoEmpleado:\n",
    "    def __init__(self, id, fecha_de_antigüedad):\n",
    "        self.id = id\n",
    "        self.fecha_de_antigüedad = fecha_de_antigüedad\n",
    "        self.izquierdo = None\n",
    "        self.derecho = None\n",
    "        self.altura = 1 # si inicializamos la altura en 1 podemos calcular el balance de las hojas."
   ]
  },
  {
   "cell_type": "code",
   "execution_count": null,
   "metadata": {
    "id": "Zh4GxLYJltqq"
   },
   "outputs": [],
   "source": [
    "# Altura y balanceo\n",
    "def obtener_altura(nodo):\n",
    "    if nodo is None:\n",
    "        return 0\n",
    "    return nodo.altura # Almacenaremos en cada nodo su respectiva altura que será modificada al insertar y eliminar\n",
    "\n",
    "def calcular_balance(nodo):\n",
    "    if nodo is None:\n",
    "        return 0\n",
    "    return obtener_altura(nodo.derecho) - obtener_altura(nodo.izquierdo)\n",
    "\n",
    "def actualizar_altura(nodo):\n",
    "    nodo.altura= 1 + max(obtener_altura(nodo.derecho), obtener_altura(nodo.izquierdo))\n"
   ]
  },
  {
   "cell_type": "code",
   "execution_count": null,
   "metadata": {
    "id": "I1twId_o0ZcQ"
   },
   "outputs": [],
   "source": [
    "# Rotaciones\n",
    "def rotacion_derecha(nodo):\n",
    "    if nodo is None or nodo.izquierdo is None:\n",
    "        return nodo  # No se puede realizar rotación si no hay hijo izquierdo\n",
    "\n",
    "    n_temp0 = nodo.izquierdo\n",
    "    n_temp1 = n_temp0.derecho if n_temp0 is not None else None\n",
    "\n",
    "    # Realizamos la rotación\n",
    "    n_temp0.derecho = nodo\n",
    "    nodo.izquierdo = n_temp1\n",
    "\n",
    "    # Actualizamos las alturas\n",
    "    nodo.altura = 1 + max(obtener_altura(nodo.izquierdo), obtener_altura(nodo.derecho))\n",
    "    n_temp0.altura = 1 + max(obtener_altura(n_temp0.izquierdo), obtener_altura(n_temp0.derecho))\n",
    "\n",
    "    # Retornamos la nueva raíz\n",
    "    return n_temp0\n",
    "\n",
    "def rotacion_izquierda(n_temp0):\n",
    "    if n_temp0 is None or n_temp0.derecho is None:\n",
    "        return n_temp0  # No se puede realizar rotación si no hay hijo derecho\n",
    "\n",
    "    nodo = n_temp0.derecho\n",
    "    n_temp1 = nodo.izquierdo if nodo is not None else None\n",
    "\n",
    "    # Realizamos la rotación\n",
    "    nodo.izquierdo = n_temp0\n",
    "    n_temp0.derecho = n_temp1\n",
    "\n",
    "    # Actualizamos las alturas\n",
    "    n_temp0.altura = 1 + max(obtener_altura(n_temp0.izquierdo), obtener_altura(n_temp0.derecho))\n",
    "    nodo.altura = 1 + max(obtener_altura(nodo.izquierdo), obtener_altura(nodo.derecho))\n",
    "\n",
    "    # Retornamos la nueva raíz\n",
    "    return nodo\n"
   ]
  },
  {
   "cell_type": "code",
   "execution_count": null,
   "metadata": {
    "id": "hR8CSDeW0hNx"
   },
   "outputs": [],
   "source": [
    "# Balanceo\n",
    "def balancear(nodo):\n",
    "    # Calculamos el factor de balance para ver si el nodo necesita balancearse\n",
    "    balance = calcular_balance(nodo)\n",
    "\n",
    "    # Caso de rotación derecha (Simple derecha)\n",
    "    if balance > 1 and calcular_balance(nodo.izquierdo) >= 0:\n",
    "        return rotacion_derecha(nodo)\n",
    "\n",
    "    # Caso de rotación izquierda-derecha (Doble derecha)\n",
    "    if balance > 1 and calcular_balance(nodo.izquierdo) < 0:\n",
    "        nodo.izquierdo = rotacion_izquierda(nodo.izquierdo)\n",
    "        return rotacion_derecha(nodo)\n",
    "\n",
    "    # Caso de rotación izquierda (Simple izquierda)\n",
    "    if balance < -1 and calcular_balance(nodo.derecho) <= 0:\n",
    "        return rotacion_izquierda(nodo)\n",
    "\n",
    "    # Caso de rotación derecha-izquierda (domble izquierda)\n",
    "    if balance < -1 and calcular_balance(nodo.derecho) > 0:\n",
    "        nodo.derecho = rotacion_derecha(nodo.derecho)\n",
    "        return rotacion_izquierda(nodo)\n",
    "\n",
    "    # Si el nodo está balanceado, no hacemos nada\n",
    "    return nodo\n"
   ]
  },
  {
   "cell_type": "code",
   "execution_count": null,
   "metadata": {
    "id": "er-zzjOGKZPd"
   },
   "outputs": [],
   "source": [
    "# Inserción de un empleado en el árbol de jerarquía recursivamente, al ser recursiva podemos actualizar las alturas en cada paso recursivo.\n",
    "def insertar_empleado(arbol, nuevo_id, nueva_fecha):\n",
    "    # Si el árbol está vacío, creamos un nuevo nodo y lo retornamos\n",
    "    if arbol is None:\n",
    "        print(f\"Insertando nodo: ID = {id}, Fecha de Antigüedad = {nueva_fecha}\")\n",
    "        return NodoEmpleado(nuevo_id, nueva_fecha)\n",
    "\n",
    "    # Realizamos la inserción recursivamente\n",
    "    if nuevo_id < arbol.id:\n",
    "        arbol.izquierdo = insertar_empleado(arbol.izquierdo, nuevo_id, nueva_fecha)\n",
    "    else:\n",
    "        arbol.derecho = insertar_empleado(arbol.derecho, nuevo_id, nueva_fecha)\n",
    "\n",
    "    # Actualizamos la altura del nodo actual\n",
    "    actualizar_altura(arbol)\n",
    "\n",
    "    # Balanceamos el nodo actual si es necesario\n",
    "    return balancear(arbol)  # Aseguramos devolver siempre la raíz del subárbol balanceado\n"
   ]
  },
  {
   "cell_type": "code",
   "execution_count": null,
   "metadata": {
    "id": "KJwDn9QsWppm"
   },
   "outputs": [],
   "source": [
    "# Eliminación usando el ID como criterio\n",
    "def eliminar_empleado(arbol, id_eliminar):\n",
    "    # Caso base: si el árbol está vacío\n",
    "    if arbol is None:\n",
    "        print(f\"ID {id_eliminar} no encontrado.\")\n",
    "        return None\n",
    "\n",
    "    # Si el ID a eliminar es menor que el ID del nodo actual, se busca en el subárbol izquierdo\n",
    "    if id_eliminar < arbol.id:\n",
    "        arbol.izquierdo = eliminar_empleado(arbol.izquierdo, id_eliminar)\n",
    "\n",
    "    # Si el ID a eliminar es mayor que el ID del nodo actual, se busca en el subárbol derecho\n",
    "    elif id_eliminar > arbol.id:\n",
    "        arbol.derecho = eliminar_empleado(arbol.derecho, id_eliminar)\n",
    "\n",
    "    # Si el ID coincide con el del nodo actual, ya encontramos el nodo a eliminar\n",
    "    else:\n",
    "        print(f\"Eliminando nodo: ID = {arbol.id}\")\n",
    "        # Caso 1: el nodo a eliminar no tiene hijo izquierdo (se conecta al subárbol derecho)\n",
    "        if arbol.izquierdo is None:\n",
    "            return arbol.derecho\n",
    "        # Caso 2: el nodo a eliminar no tiene hijo derecho (se conecta al subárbol izquierdo)\n",
    "        elif arbol.derecho is None:\n",
    "            return arbol.izquierdo\n",
    "\n",
    "        # Caso 3: el nodo tiene ambos hijos (izquierdo y derecho)\n",
    "        nodo_min = arbol.derecho # Para mantener el orden del árbol, buscamos el nodo más chico en el subárbol derecho\n",
    "        while nodo_min.izquierdo is not None:\n",
    "            nodo_min = nodo_min.izquierdo\n",
    "        arbol.id = nodo_min.id\n",
    "        arbol.fecha_de_antigüedad = nodo_min.fecha_de_antigüedad\n",
    "        arbol.derecho = eliminar_empleado(arbol.derecho, nodo_min.id)\n",
    "\n",
    "    return arbol"
   ]
  },
  {
   "cell_type": "code",
   "execution_count": null,
   "metadata": {
    "id": "TszehJpXWtVx"
   },
   "outputs": [],
   "source": [
    "# Búsqueda de un empleado en el árbol\n",
    "def buscar_empleado(arbol, id_buscar):\n",
    "    nodo_temp = arbol\n",
    "\n",
    "    # Recorremos el árbol en busca del id deseado\n",
    "    while nodo_temp is not None:\n",
    "        if id_buscar < nodo_temp.id:\n",
    "            nodo_temp = nodo_temp.izquierdo\n",
    "        elif id_buscar > nodo_temp.id:\n",
    "            nodo_temp = nodo_temp.derecho\n",
    "        else:\n",
    "            return nodo_temp\n",
    "    return None"
   ]
  },
  {
   "cell_type": "code",
   "execution_count": null,
   "metadata": {
    "id": "rjdo6-MV2DBh"
   },
   "outputs": [],
   "source": [
    "def obtener_fecha_antiguedad(arbol):\n",
    "    while True:\n",
    "        try:\n",
    "            año = int(input(\"Ingresa el año (YYYY): \"))\n",
    "            mes = int(input(\"Ingresa el mes (MM): \"))\n",
    "            dia = int(input(\"Ingresa el día (DD): \"))\n",
    "\n",
    "            # Formateamos la fecha en el formato \"YYYY/MM/DD\" para almacenarla\n",
    "            fecha_formateada = f\"{año:04d}/{mes:02d}/{dia:02d}\"\n",
    "\n",
    "            # Generamos el ID inicial basado en la fecha en formato \"YYYYMMDD\"\n",
    "            base_id = int(f\"{año:04d}{mes:02d}{dia:02d}\")\n",
    "            id_unico = base_id\n",
    "            count = 0\n",
    "\n",
    "            # Verifica si el ID ya existe en el árbol, y si es así, agrega un sufijo único\n",
    "            while buscar_empleado(arbol, id_unico) is not None:\n",
    "                count += 1\n",
    "                id_unico = int(f\"{base_id}{count}\")\n",
    "\n",
    "            # Retorna la fecha formateada y el ID único generado\n",
    "            return fecha_formateada, id_unico\n",
    "        except ValueError:\n",
    "            print(\"Error: Ingresa valores numéricos válidos para la fecha.\")\n"
   ]
  },
  {
   "cell_type": "code",
   "execution_count": null,
   "metadata": {
    "id": "uHqkQBh51JKh"
   },
   "outputs": [],
   "source": [
    "#imprimir el arbol\n",
    "def mostrar_arbol(arbol):\n",
    "    dot = Digraph()\n",
    "    dot.attr(rankdir='TB')  # Organiza el árbol de arriba hacia abajo (Top-Bottom)\n",
    "    dot.attr('node', shape='circle')  # Usa nodos circulares para el árbol\n",
    "\n",
    "    def agregar_nodos_dot(nodo):\n",
    "        if nodo is not None:\n",
    "            # Agrega el nodo actual con el ID y la fecha de antigüedad en la etiqueta\n",
    "            dot.node(str(nodo.id), f\"{nodo.id}\\nAnt: {nodo.fecha_de_antigüedad}\")\n",
    "\n",
    "            # Agrega la conexión con el hijo izquierdo\n",
    "            if nodo.izquierdo is not None:\n",
    "                dot.edge(str(nodo.id), str(nodo.izquierdo.id))\n",
    "                agregar_nodos_dot(nodo.izquierdo)\n",
    "\n",
    "            # Agrega la conexión con el hijo derecho\n",
    "            if nodo.derecho is not None:\n",
    "                dot.edge(str(nodo.id), str(nodo.derecho.id))\n",
    "                agregar_nodos_dot(nodo.derecho)\n",
    "\n",
    "    # Llama a la función recursiva para llenar el gráfico\n",
    "    agregar_nodos_dot(arbol)\n",
    "\n",
    "    # Renderiza y muestra el gráfico\n",
    "    dot.render(\"arbol_avl\", format=\"png\", view=True)"
   ]
  },
  {
   "cell_type": "code",
   "execution_count": null,
   "metadata": {
    "id": "a-u-NRGH1QJw"
   },
   "outputs": [],
   "source": [
    "def menu():\n",
    "    arbol = None\n",
    "    while True:\n",
    "        print(\"\\n--- Menú Árbol AVL de Empleados ---\")\n",
    "        print(\"1. Insertar empleado\")\n",
    "        print(\"2. Eliminar empleado\")\n",
    "        print(\"3. Buscar empleado por ID\")\n",
    "        print(\"4. Buscar empleados por antigüedad\")\n",
    "        print(\"5. Mostrar árbol\")\n",
    "        print(\"6. Recorrer en orden\")\n",
    "        print(\"7. Contar empleados\")\n",
    "        print(\"8. Salir\")\n",
    "        opcion = input(\"Selecciona una opción: \")\n",
    "\n",
    "        if opcion == '1':\n",
    "            # Solicitar la fecha de antigüedad en tres partes y generar un ID único basado en la fecha\n",
    "            nueva_fecha, nuevo_id = obtener_fecha_antiguedad(arbol)\n",
    "            arbol = insertar_empleado(arbol, nuevo_id, nueva_fecha)\n",
    "            print(f\"Empleado insertado con ID {nuevo_id} y fecha de antigüedad {nueva_fecha}.\")\n",
    "\n",
    "        elif opcion == '2':\n",
    "            id_eliminar = int(input(\"Ingresa el ID del empleado a eliminar: \"))\n",
    "            arbol = eliminar_empleado(arbol, id_eliminar)\n",
    "            print(\"Empleado eliminado correctamente.\")\n",
    "\n",
    "        elif opcion == '3':\n",
    "            id_buscar = int(input(\"Ingresa el ID del empleado a buscar: \"))\n",
    "            empleado = buscar_empleado(arbol, id_buscar)\n",
    "            if empleado:\n",
    "                print(f\"Empleado encontrado: ID = {empleado.id}, Fecha = {empleado.fecha_de_antigüedad}\")\n",
    "            else:\n",
    "                print(\"Empleado no encontrado\")\n",
    "\n",
    "        elif opcion == '4':\n",
    "            fecha_buscar = input(\"Ingresa la fecha de antigüedad a buscar (YYYY-MM-DD): \")\n",
    "            resultados = buscar_por_antigüedad(arbol, fecha_buscar)\n",
    "            if resultados:\n",
    "                print(f\"Empleados con fecha de antigüedad {fecha_buscar}:\")\n",
    "                for id, fecha in resultados:\n",
    "                    print(f\"ID: {id}, Fecha de Antigüedad: {fecha}\")\n",
    "            else:\n",
    "                print(\"No se encontraron empleados con esa fecha de antigüedad.\")\n",
    "\n",
    "        elif opcion == '5':\n",
    "            print(\"\\n--- Estructura del Árbol AVL ---\")\n",
    "            mostrar_arbol(arbol)\n",
    "\n",
    "        elif opcion == '6':\n",
    "            print(\"Recorrido en orden:\")\n",
    "            recorrer_en_orden(arbol)\n",
    "\n",
    "        elif opcion == '7':\n",
    "            # Llamada a la función contar_empleados para obtener el total de empleados\n",
    "            total_empleados = contar_empleados(arbol)\n",
    "            print(f\"Total de empleados en el árbol: {total_empleados}\")\n",
    "\n",
    "        elif opcion == '8':\n",
    "            print(\"Saliendo del programa.\")\n",
    "            break\n",
    "\n",
    "        else:\n",
    "            print(\"Opción no válida. Intenta de nuevo.\")"
   ]
  },
  {
   "cell_type": "markdown",
   "metadata": {
    "id": "kjImjwKXHoCC"
   },
   "source": [
    "### Operaciones extras"
   ]
  },
  {
   "cell_type": "code",
   "execution_count": null,
   "metadata": {
    "id": "CETceNWwHsiD"
   },
   "outputs": [],
   "source": [
    "# Recorrido en orden: muestra todos los empleados en orden de antigüedad\n",
    "def recorrer_en_orden(arbol):\n",
    "    if arbol is not None:\n",
    "        # Se recorre el subárbol izquierdo primero\n",
    "        recorrer_en_orden(arbol.izquierdo)\n",
    "        # Imprimimos el ID y fecha de antigüedad del nodo actual\n",
    "        print(f\"ID: {arbol.id}, Fecha de Antigüedad: {arbol.fecha_de_antigüedad}\")\n",
    "        # Luego se recorre el subárbol derecho\n",
    "        recorrer_en_orden(arbol.derecho)"
   ]
  },
  {
   "cell_type": "code",
   "execution_count": null,
   "metadata": {
    "id": "JBramPTpH__H"
   },
   "outputs": [],
   "source": [
    "# Contar el total de empleados en el árbol\n",
    "def contar_empleados(arbol):\n",
    "    if arbol is None:\n",
    "        # Caso base: Si el nodo es nulo, no hay empleado\n",
    "        return 0\n",
    "    # Contamos el nodo actual más los nodos en el subárbol izquierdo y derecho\n",
    "    return 1 + contar_empleados(arbol.izquierdo) + contar_empleados(arbol.derecho)"
   ]
  },
  {
   "cell_type": "code",
   "execution_count": null,
   "metadata": {
    "id": "6ahfdSSgIM2T"
   },
   "outputs": [],
   "source": [
    "# Buscar empleados por fecha de antigüedad específica\n",
    "def buscar_por_antigüedad(arbol, fecha_buscar):\n",
    "    resultados = []\n",
    "    # Función auxiliar para recorrer el árbol y buscar en cada nodo\n",
    "    def buscar_en_nodo(nodo, fecha_buscar):\n",
    "        if nodo is not None:\n",
    "            # Primero, buscamos en el subárbol izquierdo\n",
    "            buscar_en_nodo(nodo.izquierdo, fecha_buscar)\n",
    "            # Si la fecha coincide, agregamos el empleado a los resultados\n",
    "            if nodo.fecha_de_antigüedad == fecha_buscar:\n",
    "                resultados.append((nodo.id, nodo.fecha_de_antigüedad))\n",
    "            # Luego, buscamos en el subárbol derecho\n",
    "            buscar_en_nodo(nodo.derecho, fecha_buscar)\n",
    "    # Iniciamos la búsqueda desde el nodo raíz\n",
    "    buscar_en_nodo(arbol, fecha_buscar)\n",
    "    return resultados"
   ]
  },
  {
   "cell_type": "code",
   "execution_count": null,
   "metadata": {
    "colab": {
     "base_uri": "https://localhost:8080/"
    },
    "id": "UmG64MazWy1q",
    "outputId": "501dbde2-16bb-4f99-fc27-22874ea54e74"
   },
   "outputs": [
    {
     "ename": "",
     "evalue": "",
     "output_type": "error",
     "traceback": [
      "\u001b[1;31mRunning cells with 'Python 3.11.9' requires the ipykernel package.\n",
      "\u001b[1;31mRun the following command to install 'ipykernel' into the Python environment. \n",
      "\u001b[1;31mCommand: '\"c:/Users/asus gaming/AppData/Local/Microsoft/WindowsApps/python3.11.exe\" -m pip install ipykernel -U --user --force-reinstall'"
     ]
    }
   ],
   "source": [
    "# Ejemplo\n",
    "# Creamos el árbol, insertanod a algunos empleados con diferentes fechas de antigüedad\n",
    "arbol = None\n",
    "arbol = insertar_empleado(arbol, 1, \"2021/05/10\")\n",
    "arbol = insertar_empleado(arbol, 2, \"2019/03/25\")\n",
    "arbol = insertar_empleado(arbol, 3, \"2020/11/30\")\n",
    "arbol = insertar_empleado(arbol, 4, \"2018/07/15\")\n",
    "arbol = insertar_empleado(arbol, 5, \"2022/01/01\")\n",
    "\n",
    "print(\"________________________________________________________________________\\n\")\n",
    "\n",
    "# Prueba de las funciones implementadas\n",
    "print(\"\\nRecorrido en orden:\")\n",
    "recorrer_en_orden(arbol)  # Imprime cada empleado en orden de antigüedad\n",
    "\n",
    "print(\"\\nTotal de empleados:\", contar_empleados(arbol))  # Cuenta total de empleados\n",
    "\n",
    "# Buscar empleados con una fecha específica de antigüedad\n",
    "fecha_deseada = \"2020/11/30\"  # Fecha de antigüedad a buscar\n",
    "resultados = buscar_por_antigüedad(arbol, fecha_deseada)\n",
    "print(f\"\\nEmpleados con fecha de antigüedad {fecha_deseada}:\")\n",
    "for empleado in resultados:\n",
    "    print(f\"ID: {empleado[0]}, Fecha de Antigüedad: {empleado[1]}\\n\")\n",
    "\n",
    "print(\"________________________________________________________________________\\n\")\n",
    "\n",
    "# Eliminar un empleado por su ID\n",
    "id_a_eliminar = 3\n",
    "arbol = eliminar_empleado(arbol, id_a_eliminar)\n",
    "\n",
    "# Mostramos el estado del árbol después de la eliminación\n",
    "print(\"\\nRecorrido en orden después de eliminar el empleado con ID 3:\")\n",
    "recorrer_en_orden(arbol)\n",
    "\n",
    "print(\"\\nTotal de empleados después de la eliminación:\", contar_empleados(arbol))\n",
    "\n",
    "menu()"
   ]
  },
  {
   "cell_type": "markdown",
   "metadata": {},
   "source": []
  }
 ],
 "metadata": {
  "colab": {
   "provenance": []
  },
  "kernelspec": {
   "display_name": "Python 3",
   "name": "python3"
  },
  "language_info": {
   "name": "python",
   "version": "3.11.9"
  }
 },
 "nbformat": 4,
 "nbformat_minor": 0
}
